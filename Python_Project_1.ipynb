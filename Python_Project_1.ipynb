{
  "nbformat": 4,
  "nbformat_minor": 0,
  "metadata": {
    "colab": {
      "name": "Python Project 1.ipynb",
      "provenance": [],
      "authorship_tag": "ABX9TyMti2mrzN4LrXQK7u0lVnX/",
      "include_colab_link": true
    },
    "kernelspec": {
      "name": "python3",
      "display_name": "Python 3"
    }
  },
  "cells": [
    {
      "cell_type": "markdown",
      "metadata": {
        "id": "view-in-github",
        "colab_type": "text"
      },
      "source": [
        "<a href=\"https://colab.research.google.com/github/kingca12/Python_Project1/blob/master/Python_Project_1.ipynb\" target=\"_parent\"><img src=\"https://colab.research.google.com/assets/colab-badge.svg\" alt=\"Open In Colab\"/></a>"
      ]
    },
    {
      "cell_type": "code",
      "metadata": {
        "id": "N9x-lJhRg5uf",
        "colab_type": "code",
        "colab": {}
      },
      "source": [
        "\n",
        "#Project 1 \n",
        "\n",
        "#IMPORTS\n",
        "import pandas as pd\n",
        "import numpy as np\n",
        "import seaborn as sns\n",
        "%matplotlib inline\n",
        "school = pd.read_csv('https://raw.githubusercontent.com/CunyLaguardiaDataAnalytics/datasets/master/2014-15_To_2016-17_School-_Level_NYC_Regents_Report_For_All_Variables.csv')\n",
        "school\n",
        "school.dtypes\n",
        "\n",
        "\n",
        "#DATA EXPLORATION AND CLEANING\n",
        "#Replace missing values with nulls\n",
        "missing_values=['s', 'na']\n",
        "allschools= pd.read_csv('https://raw.githubusercontent.com/CunyLaguardiaDataAnalytics/datasets/master/2014-15_To_2016-17_School-_Level_NYC_Regents_Report_For_All_Variables.csv', na_values=missing_values)\n",
        "allschools #212331 rows\n",
        "#Exploration\n",
        "allschools.dtypes\n",
        "allschools.head()\n",
        "allschools.describe()\n",
        "print(allschools2['School Name'].unique())\n",
        "#Drop rows without a minimum of 7 non-NA values\n",
        "allschools2=allschools.dropna(thresh=7) #137109 rows\n",
        "#Delete duplicates\n",
        "allschools2.drop_duplicates(keep=False, inplace=True) #130394 rows\n",
        "#Convert year to a string \n",
        "allschools2['Year'] = allschools2['Year'].astype(str) \n",
        "#Create new dataset with Harriet Tubman Charter School data and relevant columns      \n",
        "harrietschool=allschools2[allschools2[\"School Name\"]==\"Harriet Tubman Charter School\"]\n",
        "harrietschool=harrietschool[['Year', 'Regents Exam', 'Mean Score', 'Total Tested']]\n",
        "harrietschool\n",
        "#Create new dataset with Harriet Tubman Charter School data from 2016 and relevant columns   \n",
        "harrietschool2016=allschools2[(allschools2[\"School Name\"]==\"Harriet Tubman Charter School\") & (allschools2['Year']=='2016')]\n",
        "harrietschool2016=harrietschool2016[['Year', 'Regents Exam', 'Mean Score', 'Total Tested']]\n",
        "harrietschool2016\n",
        "#Create new dataset with all schools from 2016 and relevant columns\n",
        "allschools2016=allschools2[allschools2['Year']=='2016']\n",
        "allschools2016=allschools2016[['Year', 'Regents Exam', 'Mean Score', 'Total Tested']]\n",
        "allschools2016\n",
        "\n",
        "\n",
        "#DATA ANALYSIS\n",
        "harrietschool.describe() #Mean score for tests between 2015-2017 is 80.45; the minimum score was 78.5 and the maximum score was 82.6.\n",
        "\n",
        "harrietschool.groupby(['Regents Exam', 'Year'])['Mean Score', 'Total Tested'].mean()\n",
        "sns.catplot(x='Regents Exam', y='Mean Score', data=HarrietSchool, hue='Year', kind='bar')\n",
        "  #Common Core Alegbra mean score in 2016 and 2017 was 78.5 and 82.2, respectively\n",
        "  #Integrated Alegbra testing was completed in 2015 with a mean score of 79.9\n",
        "\n",
        "#Comparing mean common core algebra test scores at Harriet Tubman vs. all schools from 2016\n",
        "algebraall2016=allschools2016[allschools2016[\"Regents Exam\"]=='Common Core Algebra']\n",
        "algebraall2016\n",
        "algebraall2016.describe() #mean score for all schools in 2016 Common Core Alegbra =68.2\n",
        "harrietschool2016.describe() #mean score for Harriet Tubman in 2016 Common Core Alegbra =78.5\n",
        "\n",
        "#Comparing scores by exam and year\n",
        "harrietschool.groupby(['Year']).describe()\n",
        "harrietschool.groupby(['Year'])['Mean Score'].mean().plot(kind='bar')\n",
        "  #the overall mean score for all exams in 2015, 2016, and 2017 was 79.93, 78.5 and 82.2, respectively\n",
        "\n",
        "harrietschool.groupby(['Year','Regents Exam',]).describe() \n",
        "harrietschool.groupby(['Year', 'Regents Exam'])['Mean Score'].mean().plot(kind='bar')\n",
        "  #in 2015, the mean score for Integrated Alegbra was 79.93\n",
        "  #in 2016 and 2017 the mean score of common core alegbra was 78.5 and 82.2, respectively\n",
        "  "
      ],
      "execution_count": null,
      "outputs": []
    },
    {
      "cell_type": "code",
      "metadata": {
        "id": "qIm_KVgvmbaD",
        "colab_type": "code",
        "colab": {}
      },
      "source": [
        ""
      ],
      "execution_count": null,
      "outputs": []
    }
  ]
}